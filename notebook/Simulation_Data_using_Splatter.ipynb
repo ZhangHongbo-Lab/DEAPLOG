{
 "cells": [
  {
   "cell_type": "markdown",
   "metadata": {},
   "source": [
    "# simulation of single-cell count data"
   ]
  },
  {
   "cell_type": "code",
   "execution_count": 2,
   "metadata": {
    "scrolled": true
   },
   "outputs": [
    {
     "name": "stderr",
     "output_type": "stream",
     "text": [
      "Loading required package: SingleCellExperiment\n",
      "\n",
      "Loading required package: SummarizedExperiment\n",
      "\n",
      "Loading required package: MatrixGenerics\n",
      "\n",
      "Loading required package: matrixStats\n",
      "\n",
      "\n",
      "Attaching package: ‘MatrixGenerics’\n",
      "\n",
      "\n",
      "The following objects are masked from ‘package:matrixStats’:\n",
      "\n",
      "    colAlls, colAnyNAs, colAnys, colAvgsPerRowSet, colCollapse,\n",
      "    colCounts, colCummaxs, colCummins, colCumprods, colCumsums,\n",
      "    colDiffs, colIQRDiffs, colIQRs, colLogSumExps, colMadDiffs,\n",
      "    colMads, colMaxs, colMeans2, colMedians, colMins, colOrderStats,\n",
      "    colProds, colQuantiles, colRanges, colRanks, colSdDiffs, colSds,\n",
      "    colSums2, colTabulates, colVarDiffs, colVars, colWeightedMads,\n",
      "    colWeightedMeans, colWeightedMedians, colWeightedSds,\n",
      "    colWeightedVars, rowAlls, rowAnyNAs, rowAnys, rowAvgsPerColSet,\n",
      "    rowCollapse, rowCounts, rowCummaxs, rowCummins, rowCumprods,\n",
      "    rowCumsums, rowDiffs, rowIQRDiffs, rowIQRs, rowLogSumExps,\n",
      "    rowMadDiffs, rowMads, rowMaxs, rowMeans2, rowMedians, rowMins,\n",
      "    rowOrderStats, rowProds, rowQuantiles, rowRanges, rowRanks,\n",
      "    rowSdDiffs, rowSds, rowSums2, rowTabulates, rowVarDiffs, rowVars,\n",
      "    rowWeightedMads, rowWeightedMeans, rowWeightedMedians,\n",
      "    rowWeightedSds, rowWeightedVars\n",
      "\n",
      "\n",
      "Loading required package: GenomicRanges\n",
      "\n",
      "Loading required package: stats4\n",
      "\n",
      "Loading required package: BiocGenerics\n",
      "\n",
      "Loading required package: parallel\n",
      "\n",
      "\n",
      "Attaching package: ‘BiocGenerics’\n",
      "\n",
      "\n",
      "The following objects are masked from ‘package:parallel’:\n",
      "\n",
      "    clusterApply, clusterApplyLB, clusterCall, clusterEvalQ,\n",
      "    clusterExport, clusterMap, parApply, parCapply, parLapply,\n",
      "    parLapplyLB, parRapply, parSapply, parSapplyLB\n",
      "\n",
      "\n",
      "The following objects are masked from ‘package:stats’:\n",
      "\n",
      "    IQR, mad, sd, var, xtabs\n",
      "\n",
      "\n",
      "The following objects are masked from ‘package:base’:\n",
      "\n",
      "    anyDuplicated, append, as.data.frame, basename, cbind, colnames,\n",
      "    dirname, do.call, duplicated, eval, evalq, Filter, Find, get, grep,\n",
      "    grepl, intersect, is.unsorted, lapply, Map, mapply, match, mget,\n",
      "    order, paste, pmax, pmax.int, pmin, pmin.int, Position, rank,\n",
      "    rbind, Reduce, rownames, sapply, setdiff, sort, table, tapply,\n",
      "    union, unique, unsplit, which.max, which.min\n",
      "\n",
      "\n",
      "Loading required package: S4Vectors\n",
      "\n",
      "\n",
      "Attaching package: ‘S4Vectors’\n",
      "\n",
      "\n",
      "The following objects are masked from ‘package:base’:\n",
      "\n",
      "    expand.grid, I, unname\n",
      "\n",
      "\n",
      "Loading required package: IRanges\n",
      "\n",
      "Loading required package: GenomeInfoDb\n",
      "\n",
      "Loading required package: Biobase\n",
      "\n",
      "Welcome to Bioconductor\n",
      "\n",
      "    Vignettes contain introductory material; view with\n",
      "    'browseVignettes()'. To cite Bioconductor, see\n",
      "    'citation(\"Biobase\")', and for packages 'citation(\"pkgname\")'.\n",
      "\n",
      "\n",
      "\n",
      "Attaching package: ‘Biobase’\n",
      "\n",
      "\n",
      "The following object is masked from ‘package:MatrixGenerics’:\n",
      "\n",
      "    rowMedians\n",
      "\n",
      "\n",
      "The following objects are masked from ‘package:matrixStats’:\n",
      "\n",
      "    anyMissing, rowMedians\n",
      "\n",
      "\n",
      "Loading required package: ggplot2\n",
      "\n",
      "Warning message:\n",
      "“package ‘ggplot2’ was built under R version 4.0.5”\n"
     ]
    }
   ],
   "source": [
    "# Load package\n",
    "library(scater)\n",
    "library(splatter)\n",
    "library(scuttle)"
   ]
  },
  {
   "cell_type": "code",
   "execution_count": 3,
   "metadata": {},
   "outputs": [],
   "source": [
    "real_rwa_counts <- read.csv('rawCounts_10X_endothelium.csv',row.names=1)\n",
    "real_rwa_counts <-t(real_rwa_counts)"
   ]
  },
  {
   "cell_type": "code",
   "execution_count": 4,
   "metadata": {},
   "outputs": [
    {
     "data": {
      "text/html": [
       "<style>\n",
       ".list-inline {list-style: none; margin:0; padding: 0}\n",
       ".list-inline>li {display: inline-block}\n",
       ".list-inline>li:not(:last-child)::after {content: \"\\00b7\"; padding: 0 .5ex}\n",
       "</style>\n",
       "<ol class=list-inline><li>19050</li><li>158</li></ol>\n"
      ],
      "text/latex": [
       "\\begin{enumerate*}\n",
       "\\item 19050\n",
       "\\item 158\n",
       "\\end{enumerate*}\n"
      ],
      "text/markdown": [
       "1. 19050\n",
       "2. 158\n",
       "\n",
       "\n"
      ],
      "text/plain": [
       "[1] 19050   158"
      ]
     },
     "metadata": {},
     "output_type": "display_data"
    },
    {
     "data": {
      "text/html": [
       "<table class=\"dataframe\">\n",
       "<caption>A matrix: 5 × 5 of type dbl</caption>\n",
       "<thead>\n",
       "\t<tr><th></th><th scope=col>AAACGGGCACTCGACG-1</th><th scope=col>AAACGGGTCAACACCA-1</th><th scope=col>AAAGTAGTCCTCCTAG-1</th><th scope=col>AACCGCGAGAAGATTC-1</th><th scope=col>AACCGCGTCTCGTTTA-1</th></tr>\n",
       "</thead>\n",
       "<tbody>\n",
       "\t<tr><th scope=row>RP11.34P13.7</th><td>0</td><td>0</td><td>0</td><td>0</td><td>0</td></tr>\n",
       "\t<tr><th scope=row>FO538757.2</th><td>0</td><td>1</td><td>1</td><td>0</td><td>0</td></tr>\n",
       "\t<tr><th scope=row>AP006222.2</th><td>0</td><td>4</td><td>0</td><td>3</td><td>0</td></tr>\n",
       "\t<tr><th scope=row>RP4.669L17.2</th><td>0</td><td>0</td><td>0</td><td>0</td><td>0</td></tr>\n",
       "\t<tr><th scope=row>RP4.669L17.10</th><td>0</td><td>0</td><td>0</td><td>0</td><td>0</td></tr>\n",
       "</tbody>\n",
       "</table>\n"
      ],
      "text/latex": [
       "A matrix: 5 × 5 of type dbl\n",
       "\\begin{tabular}{r|lllll}\n",
       "  & AAACGGGCACTCGACG-1 & AAACGGGTCAACACCA-1 & AAAGTAGTCCTCCTAG-1 & AACCGCGAGAAGATTC-1 & AACCGCGTCTCGTTTA-1\\\\\n",
       "\\hline\n",
       "\tRP11.34P13.7 & 0 & 0 & 0 & 0 & 0\\\\\n",
       "\tFO538757.2 & 0 & 1 & 1 & 0 & 0\\\\\n",
       "\tAP006222.2 & 0 & 4 & 0 & 3 & 0\\\\\n",
       "\tRP4.669L17.2 & 0 & 0 & 0 & 0 & 0\\\\\n",
       "\tRP4.669L17.10 & 0 & 0 & 0 & 0 & 0\\\\\n",
       "\\end{tabular}\n"
      ],
      "text/markdown": [
       "\n",
       "A matrix: 5 × 5 of type dbl\n",
       "\n",
       "| <!--/--> | AAACGGGCACTCGACG-1 | AAACGGGTCAACACCA-1 | AAAGTAGTCCTCCTAG-1 | AACCGCGAGAAGATTC-1 | AACCGCGTCTCGTTTA-1 |\n",
       "|---|---|---|---|---|---|\n",
       "| RP11.34P13.7 | 0 | 0 | 0 | 0 | 0 |\n",
       "| FO538757.2 | 0 | 1 | 1 | 0 | 0 |\n",
       "| AP006222.2 | 0 | 4 | 0 | 3 | 0 |\n",
       "| RP4.669L17.2 | 0 | 0 | 0 | 0 | 0 |\n",
       "| RP4.669L17.10 | 0 | 0 | 0 | 0 | 0 |\n",
       "\n"
      ],
      "text/plain": [
       "              AAACGGGCACTCGACG-1 AAACGGGTCAACACCA-1 AAAGTAGTCCTCCTAG-1\n",
       "RP11.34P13.7  0                  0                  0                 \n",
       "FO538757.2    0                  1                  1                 \n",
       "AP006222.2    0                  4                  0                 \n",
       "RP4.669L17.2  0                  0                  0                 \n",
       "RP4.669L17.10 0                  0                  0                 \n",
       "              AACCGCGAGAAGATTC-1 AACCGCGTCTCGTTTA-1\n",
       "RP11.34P13.7  0                  0                 \n",
       "FO538757.2    0                  0                 \n",
       "AP006222.2    3                  0                 \n",
       "RP4.669L17.2  0                  0                 \n",
       "RP4.669L17.10 0                  0                 "
      ]
     },
     "metadata": {},
     "output_type": "display_data"
    }
   ],
   "source": [
    "dim(real_rwa_counts)\n",
    "real_rwa_counts[1:5,1:5]"
   ]
  },
  {
   "cell_type": "code",
   "execution_count": 5,
   "metadata": {
    "scrolled": true
   },
   "outputs": [],
   "source": [
    "params <-splatEstimate(real_rwa_counts)"
   ]
  },
  {
   "cell_type": "code",
   "execution_count": 6,
   "metadata": {},
   "outputs": [],
   "source": [
    "# Set multiple parameters at once (using a list)\n",
    "params <- setParams(params, update = list(nGenes = 20000, batchCells=100,\n",
    "                                          mean.shape=0.358,mean.rate=2.734,\n",
    "                                          lib.loc=9.034,lib.scale=0.435,\n",
    "                                          out.prob=0.006,out.facLoc=6.420,out.facScale=0.653,\n",
    "                                          bcv.common = 0.220,bcv.df = 21.714,\n",
    "                                          dropout.mid=-0.237,dropout.shape=-1.115))"
   ]
  },
  {
   "cell_type": "markdown",
   "metadata": {},
   "source": [
    "# 1. different cell numbers "
   ]
  },
  {
   "cell_type": "code",
   "execution_count": 7,
   "metadata": {
    "scrolled": true
   },
   "outputs": [
    {
     "name": "stdout",
     "output_type": "stream",
     "text": [
      "[1] \"simulating the cell number:  50\"\n"
     ]
    },
    {
     "name": "stderr",
     "output_type": "stream",
     "text": [
      "Warning message in sparsifyMatrices(assays(sim), auto = TRUE, verbose = verbose):\n",
      "“matrix 'Dropout' is class 'matrixarray', unable to estimate size reduction factor”\n"
     ]
    },
    {
     "name": "stdout",
     "output_type": "stream",
     "text": [
      "[1] \"simulating the cell number:  100\"\n"
     ]
    },
    {
     "name": "stderr",
     "output_type": "stream",
     "text": [
      "Warning message in sparsifyMatrices(assays(sim), auto = TRUE, verbose = verbose):\n",
      "“matrix 'Dropout' is class 'matrixarray', unable to estimate size reduction factor”\n"
     ]
    },
    {
     "name": "stdout",
     "output_type": "stream",
     "text": [
      "[1] \"simulating the cell number:  500\"\n"
     ]
    },
    {
     "name": "stderr",
     "output_type": "stream",
     "text": [
      "Warning message in sparsifyMatrices(assays(sim), auto = TRUE, verbose = verbose):\n",
      "“matrix 'Dropout' is class 'matrixarray', unable to estimate size reduction factor”\n"
     ]
    },
    {
     "name": "stdout",
     "output_type": "stream",
     "text": [
      "[1] \"simulating the cell number:  1000\"\n"
     ]
    },
    {
     "name": "stderr",
     "output_type": "stream",
     "text": [
      "Warning message in sparsifyMatrices(assays(sim), auto = TRUE, verbose = verbose):\n",
      "“matrix 'Dropout' is class 'matrixarray', unable to estimate size reduction factor”\n"
     ]
    },
    {
     "name": "stdout",
     "output_type": "stream",
     "text": [
      "[1] \"simulating the cell number:  2500\"\n"
     ]
    },
    {
     "name": "stderr",
     "output_type": "stream",
     "text": [
      "Warning message in sparsifyMatrices(assays(sim), auto = TRUE, verbose = verbose):\n",
      "“matrix 'Dropout' is class 'matrixarray', unable to estimate size reduction factor”\n"
     ]
    },
    {
     "name": "stdout",
     "output_type": "stream",
     "text": [
      "[1] \"simulating the cell number:  5000\"\n"
     ]
    },
    {
     "name": "stderr",
     "output_type": "stream",
     "text": [
      "Warning message in sparsifyMatrices(assays(sim), auto = TRUE, verbose = verbose):\n",
      "“matrix 'Dropout' is class 'matrixarray', unable to estimate size reduction factor”\n"
     ]
    }
   ],
   "source": [
    "nCell=c(50,100,500,1000,2500,5000);\n",
    "params <- newSplatParams();\n",
    "for (i in 1:6){\n",
    "    print(paste('simulating the cell number: ',\n",
    "                as.character(nCell[i])\n",
    "               )\n",
    "         );\n",
    "    params <- setParams(params, update = list(nGenes = 10000, \n",
    "                                              batchCells=nCell[i],\n",
    "                                              group.prob = c(0.5, 0.5),\n",
    "                                              de.prob = c(0.05,0.05),\n",
    "                                              de.facLoc = c(-0.1, -0.1),\n",
    "                                              dropout.type='experiment',\n",
    "                                              de.facScale = c(0.3,0.3)\n",
    "                                             )\n",
    "                       );\n",
    "    sim.G2 <- splatSimulate(params,method = \"groups\",\n",
    "                            verbose = FALSE);\n",
    "    sim.G2 <- addGeneLengths(sim.G2);\n",
    "    tpm(sim.G2) <- calculateTPM(sim.G2, rowData(sim.G2)$Length);\n",
    "    sim.G2 <- logNormCounts(sim.G2, log=FALSE);\n",
    "    sim.G2 <- logNormCounts(sim.G2);\n",
    "    saveRDS(sim.G2,\n",
    "            file=paste('./write/SplatSim_G2_B1_sce_based_real_data_nCell_',\n",
    "                       as.character(nCell[i]),\n",
    "                       '_20210903.rds',\n",
    "                       sep='')\n",
    "           );\n",
    "    write.csv(rowData(sim.G2),\n",
    "              file=paste('./write/SplatSim_G2_B1_sce_based_real_data_feature_nCell_',\n",
    "                         as.character(nCell[i]),\n",
    "                         '_20210903.csv',\n",
    "                         sep='')\n",
    "             );\n",
    "    write.csv(colData(sim.G2),\n",
    "              file=paste('./write/SplatSim_G2_B1_sce_based_real_data_pheno_nCell_',\n",
    "                         as.character(nCell[i]),\n",
    "                         '_20210903.csv',\n",
    "                         sep='')\n",
    "             );\n",
    "    write.csv(counts(sim.G2),\n",
    "              file=paste('./write/SplatSim_G2_B1_sce_based_real_data_counts_nCell_',\n",
    "                         as.character(nCell[i]),\n",
    "                         '_20210903.csv',\n",
    "                         sep='')\n",
    "             );\n",
    "}"
   ]
  },
  {
   "cell_type": "markdown",
   "metadata": {},
   "source": [
    "# 2. different number of cell groups"
   ]
  },
  {
   "cell_type": "code",
   "execution_count": 18,
   "metadata": {
    "scrolled": true
   },
   "outputs": [
    {
     "name": "stdout",
     "output_type": "stream",
     "text": [
      "[1] \"simulating the cell group:  2\"\n"
     ]
    },
    {
     "name": "stderr",
     "output_type": "stream",
     "text": [
      "Warning message in sparsifyMatrices(assays(sim), auto = TRUE, verbose = verbose):\n",
      "“matrix 'Dropout' is class 'matrixarray', unable to estimate size reduction factor”\n"
     ]
    },
    {
     "name": "stdout",
     "output_type": "stream",
     "text": [
      "[1] \"simulating the cell group:  5\"\n"
     ]
    },
    {
     "name": "stderr",
     "output_type": "stream",
     "text": [
      "Warning message in sparsifyMatrices(assays(sim), auto = TRUE, verbose = verbose):\n",
      "“matrix 'Dropout' is class 'matrixarray', unable to estimate size reduction factor”\n"
     ]
    },
    {
     "name": "stdout",
     "output_type": "stream",
     "text": [
      "[1] \"simulating the cell group:  10\"\n"
     ]
    },
    {
     "name": "stderr",
     "output_type": "stream",
     "text": [
      "Warning message in sparsifyMatrices(assays(sim), auto = TRUE, verbose = verbose):\n",
      "“matrix 'Dropout' is class 'matrixarray', unable to estimate size reduction factor”\n"
     ]
    },
    {
     "name": "stdout",
     "output_type": "stream",
     "text": [
      "[1] \"simulating the cell group:  25\"\n"
     ]
    },
    {
     "name": "stderr",
     "output_type": "stream",
     "text": [
      "Warning message in sparsifyMatrices(assays(sim), auto = TRUE, verbose = verbose):\n",
      "“matrix 'Dropout' is class 'matrixarray', unable to estimate size reduction factor”\n"
     ]
    },
    {
     "name": "stdout",
     "output_type": "stream",
     "text": [
      "[1] \"simulating the cell group:  50\"\n"
     ]
    },
    {
     "name": "stderr",
     "output_type": "stream",
     "text": [
      "Warning message in sparsifyMatrices(assays(sim), auto = TRUE, verbose = verbose):\n",
      "“matrix 'Dropout' is class 'matrixarray', unable to estimate size reduction factor”\n"
     ]
    }
   ],
   "source": [
    "nGroup <- c(2,5,10,25,50);\n",
    "for (i in 1:5){\n",
    "    G <- nGroup[i];\n",
    "    n_cell = 200*G;\n",
    "    #x1=2/((G+1)*G);\n",
    "    #x2= 2/(G+1);\n",
    "    #x3 = 2/((G+1)*G);\n",
    "    #g_p<-seq(from = x1,to = x2,by=x3)\n",
    "    params <- newSplatParams();\n",
    "    print(paste('simulating the cell group: ',\n",
    "                as.character(G)\n",
    "               )\n",
    "         );\n",
    "    params <- setParams(params, update = list(nGenes = 10000, \n",
    "                                              batchCells=n_cell,\n",
    "                                              group.prob = rep(1/G,G),\n",
    "                                              de.prob = rep(0.05,G),\n",
    "                                              de.facLoc = rep(-0.1, G),\n",
    "                                              dropout.type='experiment',\n",
    "                                              de.facScale = rep(0.3,G)\n",
    "                                             )\n",
    "                       );\n",
    "    sim.G2 <- splatSimulate(params,method = \"groups\",\n",
    "                            verbose = FALSE);\n",
    "    sim.G2 <- addGeneLengths(sim.G2);\n",
    "    tpm(sim.G2) <- calculateTPM(sim.G2, rowData(sim.G2)$Length);\n",
    "    sim.G2 <- logNormCounts(sim.G2, log=FALSE);\n",
    "    sim.G2 <- logNormCounts(sim.G2);\n",
    "    saveRDS(sim.G2,\n",
    "            file=paste('./write/SplatSim_eC200_B1_sce_de_prob_nGroup_',\n",
    "                       as.character(G),\n",
    "                       '_20210903.rds',\n",
    "                       sep='')\n",
    "           );\n",
    "    write.csv(rowData(sim.G2),\n",
    "              file=paste('./write/SplatSim_eC200_B1_feature_de_prob_nGroup_',\n",
    "                         as.character(G),\n",
    "                         '_20210903.csv',\n",
    "                         sep='')\n",
    "             );\n",
    "    write.csv(colData(sim.G2),\n",
    "              file=paste('./write/SplatSim_eC200_B1_pheno_de_prob_nGroup_',\n",
    "                         as.character(G),\n",
    "                         '_20210903.csv',\n",
    "                         sep='')\n",
    "             );\n",
    "    write.csv(counts(sim.G2),\n",
    "              file=paste('./write/SplatSim_eC200_B1_counts_de_prob_nGroup_',\n",
    "                         as.character(G),\n",
    "                         '_20210903.csv',\n",
    "                         sep='')\n",
    "             );\n",
    "}"
   ]
  },
  {
   "cell_type": "code",
   "execution_count": 7,
   "metadata": {},
   "outputs": [
    {
     "name": "stdout",
     "output_type": "stream",
     "text": [
      "[1] \"simulating the cell group:  2\"\n"
     ]
    },
    {
     "name": "stderr",
     "output_type": "stream",
     "text": [
      "Warning message in sparsifyMatrices(assays(sim), auto = TRUE, verbose = verbose):\n",
      "“matrix 'Dropout' is class 'matrixarray', unable to estimate size reduction factor”\n"
     ]
    },
    {
     "name": "stdout",
     "output_type": "stream",
     "text": [
      "[1] \"simulating the cell group:  5\"\n"
     ]
    },
    {
     "name": "stderr",
     "output_type": "stream",
     "text": [
      "Warning message in sparsifyMatrices(assays(sim), auto = TRUE, verbose = verbose):\n",
      "“matrix 'Dropout' is class 'matrixarray', unable to estimate size reduction factor”\n"
     ]
    },
    {
     "name": "stdout",
     "output_type": "stream",
     "text": [
      "[1] \"simulating the cell group:  10\"\n"
     ]
    },
    {
     "name": "stderr",
     "output_type": "stream",
     "text": [
      "Warning message in sparsifyMatrices(assays(sim), auto = TRUE, verbose = verbose):\n",
      "“matrix 'Dropout' is class 'matrixarray', unable to estimate size reduction factor”\n"
     ]
    },
    {
     "name": "stdout",
     "output_type": "stream",
     "text": [
      "[1] \"simulating the cell group:  25\"\n"
     ]
    },
    {
     "name": "stderr",
     "output_type": "stream",
     "text": [
      "Warning message in sparsifyMatrices(assays(sim), auto = TRUE, verbose = verbose):\n",
      "“matrix 'Dropout' is class 'matrixarray', unable to estimate size reduction factor”\n"
     ]
    },
    {
     "name": "stdout",
     "output_type": "stream",
     "text": [
      "[1] \"simulating the cell group:  50\"\n"
     ]
    },
    {
     "name": "stderr",
     "output_type": "stream",
     "text": [
      "Warning message in sparsifyMatrices(assays(sim), auto = TRUE, verbose = verbose):\n",
      "“matrix 'Dropout' is class 'matrixarray', unable to estimate size reduction factor”\n"
     ]
    }
   ],
   "source": [
    "nGroup <- c(2,5,10,25,50);\n",
    "n_cell = 10000\n",
    "for (i in 1:5){\n",
    "    G <- nGroup[i];\n",
    "    params <- newSplatParams();\n",
    "    print(paste('simulating the cell group: ',\n",
    "                as.character(G)\n",
    "               )\n",
    "         );\n",
    "    params <- setParams(params, update = list(nGenes = 10000, \n",
    "                                              batchCells=n_cell,\n",
    "                                              group.prob = rep(1/G,G),\n",
    "                                              de.prob = rep(0.05,G),\n",
    "                                              de.facLoc = rep(-0.1, G),\n",
    "                                              dropout.type='experiment',\n",
    "                                              de.facScale = rep(0.3,G)\n",
    "                                             )\n",
    "                       );\n",
    "    sim.G2 <- splatSimulate(params,method = \"groups\",\n",
    "                            verbose = FALSE);\n",
    "    sim.G2 <- addGeneLengths(sim.G2);\n",
    "    tpm(sim.G2) <- calculateTPM(sim.G2, rowData(sim.G2)$Length);\n",
    "    sim.G2 <- logNormCounts(sim.G2, log=FALSE);\n",
    "    sim.G2 <- logNormCounts(sim.G2);\n",
    "    saveRDS(sim.G2,\n",
    "            file=paste('./write/SplatSim_nC10k_B1_sce_de_prob_nGroup_',\n",
    "                       as.character(G),\n",
    "                       '_20210903.rds',\n",
    "                       sep='')\n",
    "           );\n",
    "    write.csv(rowData(sim.G2),\n",
    "              file=paste('./write/SplatSim_nC10k_B1_feature_de_prob_nGroup_',\n",
    "                         as.character(G),\n",
    "                         '_20210903.csv',\n",
    "                         sep='')\n",
    "             );\n",
    "    write.csv(colData(sim.G2),\n",
    "              file=paste('./write/SplatSim_nC10k_B1_pheno_de_prob_nGroup_',\n",
    "                         as.character(G),\n",
    "                         '_20210903.csv',\n",
    "                         sep='')\n",
    "             );\n",
    "    write.csv(counts(sim.G2),\n",
    "              file=paste('./write/SplatSim_nC10k_B1_counts_de_prob_nGroup_',\n",
    "                         as.character(G),\n",
    "                         '_20210903.csv',\n",
    "                         sep='')\n",
    "             );\n",
    "}"
   ]
  },
  {
   "cell_type": "markdown",
   "metadata": {},
   "source": [
    "# 3. different cell number in each group"
   ]
  },
  {
   "cell_type": "code",
   "execution_count": 56,
   "metadata": {
    "scrolled": true
   },
   "outputs": [
    {
     "name": "stdout",
     "output_type": "stream",
     "text": [
      "[1] \"simulating the distribution:  uniform\"\n"
     ]
    },
    {
     "name": "stderr",
     "output_type": "stream",
     "text": [
      "Warning message in sparsifyMatrices(assays(sim), auto = TRUE, verbose = verbose):\n",
      "“matrix 'Dropout' is class 'matrixarray', unable to estimate size reduction factor”\n"
     ]
    },
    {
     "name": "stdout",
     "output_type": "stream",
     "text": [
      "[1] \"simulating the distribution:  norm\"\n"
     ]
    },
    {
     "name": "stderr",
     "output_type": "stream",
     "text": [
      "Warning message in sparsifyMatrices(assays(sim), auto = TRUE, verbose = verbose):\n",
      "“matrix 'Dropout' is class 'matrixarray', unable to estimate size reduction factor”\n"
     ]
    },
    {
     "name": "stdout",
     "output_type": "stream",
     "text": [
      "[1] \"simulating the distribution:  gamma\"\n"
     ]
    },
    {
     "name": "stderr",
     "output_type": "stream",
     "text": [
      "Warning message in sparsifyMatrices(assays(sim), auto = TRUE, verbose = verbose):\n",
      "“matrix 'Dropout' is class 'matrixarray', unable to estimate size reduction factor”\n"
     ]
    },
    {
     "name": "stdout",
     "output_type": "stream",
     "text": [
      "[1] \"simulating the distribution:  beta\"\n"
     ]
    },
    {
     "name": "stderr",
     "output_type": "stream",
     "text": [
      "Warning message in sparsifyMatrices(assays(sim), auto = TRUE, verbose = verbose):\n",
      "“matrix 'Dropout' is class 'matrixarray', unable to estimate size reduction factor”\n"
     ]
    },
    {
     "name": "stdout",
     "output_type": "stream",
     "text": [
      "[1] \"simulating the distribution:  poisson\"\n"
     ]
    },
    {
     "name": "stderr",
     "output_type": "stream",
     "text": [
      "Warning message in sparsifyMatrices(assays(sim), auto = TRUE, verbose = verbose):\n",
      "“matrix 'Dropout' is class 'matrixarray', unable to estimate size reduction factor”\n"
     ]
    }
   ],
   "source": [
    "G <- 10;\n",
    "n_cell = 3000;\n",
    "r_dist = c('uniform','norm','gamma','beta','poisson');\n",
    "for (i in 1:5){\n",
    "    if (r_dist[i]=='uniform'){\n",
    "        g_p = rep(1/G,G);\n",
    "    } \n",
    "    else if (r_dist[i]=='norm'){\n",
    "        x1 = abs(rnorm(10));\n",
    "        g_p = x1/sum(x1);\n",
    "    } \n",
    "    else if (r_dist[i]=='gamma'){\n",
    "        x1 = abs(rgamma(10,1));\n",
    "        g_p = x1/sum(x1);\n",
    "    } \n",
    "    else if (r_dist[i]=='beta') {\n",
    "        x1 = abs(rbeta(10,1,2));\n",
    "        g_p = x1/sum(x1);\n",
    "    } \n",
    "    else {\n",
    "        x1 = abs(rpois(10,1));\n",
    "        g_p = x1/sum(x1);\n",
    "    }\n",
    "    params <- newSplatParams();\n",
    "    print(paste('simulating the distribution: ',\n",
    "                r_dist[i]\n",
    "               )\n",
    "         );\n",
    "\n",
    "    params <- setParams(params, update = list(nGenes = 10000, \n",
    "                                              batchCells=n_cell,\n",
    "                                              group.prob = g_p,\n",
    "                                              de.prob = rep(0.05,G),\n",
    "                                              de.facLoc = rep(-0.1, G),\n",
    "                                              dropout.type='experiment',\n",
    "                                              de.facScale = rep(0.3,G)\n",
    "                                             )\n",
    "                       );\n",
    "    sim.G2 <- splatSimulate(params,method = \"groups\",\n",
    "                            verbose = FALSE);\n",
    "    sim.G2 <- addGeneLengths(sim.G2);\n",
    "    tpm(sim.G2) <- calculateTPM(sim.G2, rowData(sim.G2)$Length);\n",
    "    sim.G2 <- logNormCounts(sim.G2, log=FALSE);\n",
    "    sim.G2 <- logNormCounts(sim.G2);\n",
    "    saveRDS(sim.G2,\n",
    "            file=paste('./write/SplatSim_G10_nC3k_B1_sce_de_prob_',\n",
    "                       r_dist[i],\n",
    "                       '_20210903.rds',\n",
    "                       sep='')\n",
    "           );\n",
    "    write.csv(rowData(sim.G2),\n",
    "              file=paste('./write/SplatSim_G10_nC3k_B1_feature_sce_de_prob_',\n",
    "                         r_dist[i],\n",
    "                         '_20210903.csv',\n",
    "                         sep='')\n",
    "             );\n",
    "    write.csv(colData(sim.G2),\n",
    "              file=paste('./write/SplatSim_G10_nC3k_B1_pheno_sce_de_prob_',\n",
    "                         r_dist[i],\n",
    "                         '_20210903.csv',\n",
    "                         sep='')\n",
    "             );\n",
    "    write.csv(counts(sim.G2),\n",
    "              file=paste('./write/SplatSim_G10_nC3k_B1_counts_sce_de_prob_',\n",
    "                         r_dist[i],\n",
    "                         '_20210903.csv',\n",
    "                         sep='')\n",
    "             );\n",
    "}"
   ]
  },
  {
   "cell_type": "markdown",
   "metadata": {},
   "source": [
    "# 4. different Batches"
   ]
  },
  {
   "cell_type": "code",
   "execution_count": 57,
   "metadata": {
    "scrolled": true
   },
   "outputs": [
    {
     "name": "stdout",
     "output_type": "stream",
     "text": [
      "[1] \"simulating the batch:  1\"\n"
     ]
    },
    {
     "name": "stderr",
     "output_type": "stream",
     "text": [
      "Warning message in sparsifyMatrices(assays(sim), auto = TRUE, verbose = verbose):\n",
      "“matrix 'Dropout' is class 'matrixarray', unable to estimate size reduction factor”\n"
     ]
    },
    {
     "name": "stdout",
     "output_type": "stream",
     "text": [
      "[1] \"simulating the batch:  2\"\n"
     ]
    },
    {
     "name": "stderr",
     "output_type": "stream",
     "text": [
      "Warning message in sparsifyMatrices(assays(sim), auto = TRUE, verbose = verbose):\n",
      "“matrix 'Dropout' is class 'matrixarray', unable to estimate size reduction factor”\n"
     ]
    },
    {
     "name": "stdout",
     "output_type": "stream",
     "text": [
      "[1] \"simulating the batch:  4\"\n"
     ]
    },
    {
     "name": "stderr",
     "output_type": "stream",
     "text": [
      "Warning message in sparsifyMatrices(assays(sim), auto = TRUE, verbose = verbose):\n",
      "“matrix 'Dropout' is class 'matrixarray', unable to estimate size reduction factor”\n"
     ]
    },
    {
     "name": "stdout",
     "output_type": "stream",
     "text": [
      "[1] \"simulating the batch:  6\"\n"
     ]
    },
    {
     "name": "stderr",
     "output_type": "stream",
     "text": [
      "Warning message in sparsifyMatrices(assays(sim), auto = TRUE, verbose = verbose):\n",
      "“matrix 'Dropout' is class 'matrixarray', unable to estimate size reduction factor”\n"
     ]
    },
    {
     "name": "stdout",
     "output_type": "stream",
     "text": [
      "[1] \"simulating the batch:  8\"\n"
     ]
    },
    {
     "name": "stderr",
     "output_type": "stream",
     "text": [
      "Warning message in sparsifyMatrices(assays(sim), auto = TRUE, verbose = verbose):\n",
      "“matrix 'Dropout' is class 'matrixarray', unable to estimate size reduction factor”\n"
     ]
    },
    {
     "name": "stdout",
     "output_type": "stream",
     "text": [
      "[1] \"simulating the batch:  10\"\n"
     ]
    },
    {
     "name": "stderr",
     "output_type": "stream",
     "text": [
      "Warning message in sparsifyMatrices(assays(sim), auto = TRUE, verbose = verbose):\n",
      "“matrix 'Dropout' is class 'matrixarray', unable to estimate size reduction factor”\n"
     ]
    }
   ],
   "source": [
    "G <- 10;\n",
    "n_cell = 3000;\n",
    "#x1=2/((G+1)*G);\n",
    "#x2= 2/(G+1);\n",
    "#x3 = 2/((G+1)*G);\n",
    "#g_p<-seq(from = x1,to = x2,by=x3);\n",
    "batch_n= c(1,2,4,6,8,10);\n",
    "for (i in 1:6){\n",
    "    B <- batch_n[i];\n",
    "    params <- newSplatParams();\n",
    "    print(paste('simulating the batch: ',\n",
    "                as.character(B)\n",
    "               )\n",
    "         );\n",
    "    params <- setParams(params, update = list(nGenes = 10000, \n",
    "                                              batchCells=rep(round(n_cell/B),B),\n",
    "                                              group.prob = rep(1/G,G),\n",
    "                                              de.prob = rep(0.05,G),\n",
    "                                              de.facLoc = rep(-0.1, G),\n",
    "                                              dropout.type='experiment',\n",
    "                                              de.facScale = rep(0.3,G)\n",
    "                                             )\n",
    "                       );\n",
    "    sim.G2 <- splatSimulate(params,method = \"groups\",\n",
    "                            verbose = FALSE);\n",
    "    sim.G2 <- addGeneLengths(sim.G2);\n",
    "    tpm(sim.G2) <- calculateTPM(sim.G2, rowData(sim.G2)$Length);\n",
    "    sim.G2 <- logNormCounts(sim.G2, log=FALSE);\n",
    "    sim.G2 <- logNormCounts(sim.G2);\n",
    "    saveRDS(sim.G2,\n",
    "            file=paste('./write/SplatSim_G10_nC3k_sce_de_prob_nBatch_',\n",
    "                       as.character(B),\n",
    "                       '_20210903.rds',\n",
    "                       sep='')\n",
    "           );\n",
    "    write.csv(rowData(sim.G2),\n",
    "              file=paste('./write/SplatSim_G10_nC3k_feature_de_prob_nBatch_',\n",
    "                         as.character(B),\n",
    "                         '_20210903.csv',\n",
    "                         sep='')\n",
    "             );\n",
    "    write.csv(colData(sim.G2),\n",
    "              file=paste('./write/SplatSim_G10_nC3k_pheno_de_prob_nBatch_',\n",
    "                         as.character(B),\n",
    "                         '_20210903.csv',\n",
    "                         sep='')\n",
    "             );\n",
    "    write.csv(counts(sim.G2),\n",
    "              file=paste('./write/SplatSim_G10_nC3k_counts_de_prob_nBatch_',\n",
    "                         as.character(B),\n",
    "                         '_20210903.csv',\n",
    "                         sep='')\n",
    "             );\n",
    "}"
   ]
  },
  {
   "cell_type": "code",
   "execution_count": 58,
   "metadata": {},
   "outputs": [
    {
     "data": {
      "text/plain": [
       "class: SingleCellExperiment \n",
       "dim: 10000 3000 \n",
       "metadata(1): Params\n",
       "assays(11): BatchCellMeans BaseCellMeans ... normcounts logcounts\n",
       "rownames(10000): Gene1 Gene2 ... Gene9999 Gene10000\n",
       "rowData names(25): Gene BaseGeneMean ... DEFacGroup10 Length\n",
       "colnames(3000): Cell1 Cell2 ... Cell2999 Cell3000\n",
       "colData names(5): Cell Batch Group ExpLibSize sizeFactor\n",
       "reducedDimNames(0):\n",
       "altExpNames(0):"
      ]
     },
     "metadata": {},
     "output_type": "display_data"
    }
   ],
   "source": [
    "sim.G2"
   ]
  },
  {
   "cell_type": "code",
   "execution_count": 59,
   "metadata": {},
   "outputs": [
    {
     "data": {
      "text/plain": [
       "DataFrame with 3000 rows and 5 columns\n",
       "                Cell       Batch    Group ExpLibSize sizeFactor\n",
       "         <character> <character> <factor>  <numeric>  <numeric>\n",
       "Cell1          Cell1      Batch1   Group6    44739.2   0.716300\n",
       "Cell2          Cell2      Batch1   Group8    80208.5   1.328167\n",
       "Cell3          Cell3      Batch1   Group8    41733.6   0.676401\n",
       "Cell4          Cell4      Batch1   Group8    70017.7   1.169051\n",
       "Cell5          Cell5      Batch1   Group8    62497.5   1.038066\n",
       "...              ...         ...      ...        ...        ...\n",
       "Cell2996    Cell2996     Batch10   Group9    54533.4   0.875630\n",
       "Cell2997    Cell2997     Batch10   Group8    57234.3   0.946145\n",
       "Cell2998    Cell2998     Batch10   Group7    58286.0   0.951363\n",
       "Cell2999    Cell2999     Batch10   Group3    60910.2   0.996924\n",
       "Cell3000    Cell3000     Batch10   Group5    55357.2   0.904223"
      ]
     },
     "metadata": {},
     "output_type": "display_data"
    }
   ],
   "source": [
    "colData(sim.G2)"
   ]
  },
  {
   "cell_type": "code",
   "execution_count": null,
   "metadata": {},
   "outputs": [],
   "source": []
  }
 ],
 "metadata": {
  "kernelspec": {
   "display_name": "R 4.0.3",
   "language": "R",
   "name": "ir403"
  },
  "language_info": {
   "codemirror_mode": "r",
   "file_extension": ".r",
   "mimetype": "text/x-r-source",
   "name": "R",
   "pygments_lexer": "r",
   "version": "4.0.3"
  }
 },
 "nbformat": 4,
 "nbformat_minor": 2
}
