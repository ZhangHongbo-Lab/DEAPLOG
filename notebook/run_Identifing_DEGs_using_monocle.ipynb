{
 "cells": [
  {
   "cell_type": "code",
   "execution_count": 1,
   "metadata": {},
   "outputs": [
    {
     "name": "stderr",
     "output_type": "stream",
     "text": [
      "Warning message:\n",
      "“package ‘Matrix’ was built under R version 4.0.5”\n",
      "Warning message:\n",
      "“package ‘ggplot2’ was built under R version 4.0.5”\n",
      "Warning message:\n",
      "“package ‘irlba’ was built under R version 4.0.5”\n"
     ]
    }
   ],
   "source": [
    "suppressPackageStartupMessages(library(splatter))\n",
    "suppressPackageStartupMessages(library(monocle))\n",
    "suppressPackageStartupMessages(library(edgeR))\n",
    "\n",
    "run_monocle <- function(L) {\n",
    "    message(\"monocle\");\n",
    "    session_info <- sessionInfo();\n",
    "    timing <- system.time({\n",
    "    tpm <- tpm(L)\n",
    "    mon <- newCellDataSet(as.matrix(tpm), \n",
    "                          phenoData = new(\"AnnotatedDataFrame\", \n",
    "                                          data = data.frame(condition = colData(L)$Group, \n",
    "                                                            row.names = colnames(L))),\n",
    "                          featureData = new(\"AnnotatedDataFrame\",\n",
    "                                            data = data.frame(gene_short_name = rownames(L),\n",
    "                                                              row.names = rownames(L))),\n",
    "                          expressionFamily = tobit())\n",
    "    monres <- differentialGeneTest(mon, fullModelFormulaStr = \" ~ condition\")\n",
    "    })  \n",
    "    #hist(monres$pval, 50);\n",
    "    #hist(monres$qval, 50);\n",
    "  \n",
    "    df_0 <- data.frame(pval = monres$pval, \n",
    "                       padj = monres$qval,\n",
    "                       row.names = rownames(monres));\n",
    "    df_0[is.na(df_0)] <- 1;\n",
    "    list(session_info = session_info,\n",
    "       timing = timing,\n",
    "       res = monres,\n",
    "       df = df_0);\n",
    "}"
   ]
  },
  {
   "cell_type": "markdown",
   "metadata": {},
   "source": [
    "## check different cell numbers"
   ]
  },
  {
   "cell_type": "code",
   "execution_count": 2,
   "metadata": {},
   "outputs": [
    {
     "name": "stderr",
     "output_type": "stream",
     "text": [
      "monocle\n",
      "\n",
      "monocle\n",
      "\n",
      "monocle\n",
      "\n",
      "monocle\n",
      "\n",
      "monocle\n",
      "\n",
      "monocle\n",
      "\n"
     ]
    }
   ],
   "source": [
    "n_cell_time = list();\n",
    "for (nCell in c(50,100,500,1000,2500,5000)){\n",
    "    options(warn=-1,showWarnCalls=F, showErrorCalls=F);\n",
    "    sce <- readRDS(file=paste('./write/SplatSim_G2_B1_sce_based_real_data_nCell_',\n",
    "                       as.character(nCell),\n",
    "                       '_20210903.rds',\n",
    "                       sep=''));\n",
    "    t1 <- proc.time();\n",
    "    warning('off');\n",
    "    results_run_monocle <- run_monocle(sce);\n",
    "    t2 <- proc.time();\n",
    "    t = t2-t1;\n",
    "    n_cell_time[paste('nC',as.character(nCell),sep='')] <- t[3][[1]];\n",
    "    \n",
    "    write.csv(results_run_monocle$df,file = paste('./write/run_monocle_SplatSim_G2_B1_sce_based_real_data_nCell_',\n",
    "                           as.character(nCell),\n",
    "                           '_20210910.csv',\n",
    "                           sep=''));\n",
    "}\n",
    "#write.csv(as.data.frame(n_cell_time),file=paste('./write/run_monocle_SplatSim_G2_sce_based_real_data_deCells_run_time_20210910.csv',sep=''))"
   ]
  },
  {
   "cell_type": "markdown",
   "metadata": {},
   "source": [
    "# check differnt cell number in each clusters"
   ]
  },
  {
   "cell_type": "code",
   "execution_count": 2,
   "metadata": {},
   "outputs": [
    {
     "name": "stderr",
     "output_type": "stream",
     "text": [
      "monocle\n",
      "\n",
      "monocle\n",
      "\n",
      "monocle\n",
      "\n",
      "monocle\n",
      "\n",
      "monocle\n",
      "\n"
     ]
    }
   ],
   "source": [
    "n_ct_time = list();\n",
    "for (nct in c('uniform','norm','gamma','beta','poisson')){\n",
    "    options(warn=-1,showWarnCalls=F, showErrorCalls=F);\n",
    "    sce <- readRDS(file=paste('./write/SplatSim_G10_nC3k_B1_sce_de_prob_',\n",
    "                       nct,\n",
    "                       '_20210903.rds',\n",
    "                       sep=''));\n",
    "    t1 <- proc.time();\n",
    "    warning('off');\n",
    "    results_run_monocle <- run_monocle(sce);\n",
    "    t2 <- proc.time();\n",
    "    t = t2-t1;\n",
    "    n_ct_time[paste('nCT',as.character(nct),sep='')] <- t[3][[1]];\n",
    "    write.csv(results_run_monocle$df,file = paste('./write/run_monocle_SplatSim_G10_nC3k_B1_sce_de_prob_',\n",
    "                           nct,\n",
    "                           '_20210910.csv',\n",
    "                           sep=''));\n",
    "}\n",
    "#write.csv(as.data.frame(n_ct_time),file=paste('./write/run_monocle_SplatSim_G2_sce_based_real_data_deGroup_run_time_20210910.csv',sep=''))\n"
   ]
  },
  {
   "cell_type": "markdown",
   "metadata": {},
   "source": [
    "## check different cell type"
   ]
  },
  {
   "cell_type": "code",
   "execution_count": 3,
   "metadata": {},
   "outputs": [
    {
     "name": "stderr",
     "output_type": "stream",
     "text": [
      "monocle\n",
      "\n",
      "monocle\n",
      "\n",
      "monocle\n",
      "\n",
      "monocle\n",
      "\n",
      "monocle\n",
      "\n"
     ]
    }
   ],
   "source": [
    "n_ct_time = list();\n",
    "for (nct in c(2,5,10,25,50)){\n",
    "    options(warn=-1,showWarnCalls=F, showErrorCalls=F);\n",
    "    sce <- readRDS(file=paste('./write/SplatSim_eC200_B1_sce_de_prob_nGroup_',\n",
    "                       as.character(nct),\n",
    "                       '_20210903.rds',\n",
    "                       sep=''));\n",
    "    t1 <- proc.time();\n",
    "    warning('off');\n",
    "    results_run_monocle <- run_monocle(sce);\n",
    "    t2 <- proc.time();\n",
    "    t = t2-t1;\n",
    "    n_ct_time[paste('nCT',as.character(nct),sep='')] <- t[3][[1]];\n",
    "    write.csv(results_run_monocle$df,file = paste('./write/run_monocle_SplatSim_eC200_B1_sce_de_prob_nGroup_',\n",
    "                           as.character(nct),\n",
    "                           '_20210910.csv',\n",
    "                           sep=''));\n",
    "}\n",
    "#write.csv(as.data.frame(n_ct_time),file=paste('./write/run_monocle_SplatSim_G2_sce_based_real_data_deGroup_run_time_20210910.csv',sep=''))\n"
   ]
  },
  {
   "cell_type": "code",
   "execution_count": 2,
   "metadata": {},
   "outputs": [
    {
     "name": "stderr",
     "output_type": "stream",
     "text": [
      "monocle\n",
      "\n",
      "monocle\n",
      "\n",
      "monocle\n",
      "\n",
      "monocle\n",
      "\n",
      "monocle\n",
      "\n"
     ]
    }
   ],
   "source": [
    "n_ct_time = list();\n",
    "for (nct in c(2,5,10,25,50)){\n",
    "    options(warn=-1,showWarnCalls=F, showErrorCalls=F);\n",
    "    sce <- readRDS(file=paste('./write/SplatSim_nC10k_B1_sce_de_prob_nGroup_',\n",
    "                       as.character(nct),\n",
    "                       '_20210903.rds',\n",
    "                       sep=''));\n",
    "    t1 <- proc.time();\n",
    "    warning('off');\n",
    "    results_run_monocle <- run_monocle(sce);\n",
    "    t2 <- proc.time();\n",
    "    t = t2-t1;\n",
    "    n_ct_time[paste('nCT',as.character(nct),sep='')] <- t[3][[1]];\n",
    "    write.csv(results_run_monocle$df,file = paste('./write/run_monocle_SplatSim_nC10k_B1_sce_de_prob_nGroup_',\n",
    "                           as.character(nct),\n",
    "                           '_20210910.csv',\n",
    "                           sep=''));\n",
    "}\n",
    "#write.csv(as.data.frame(n_ct_time),file=paste('./write/run_monocle_SplatSim_G2_sce_based_real_data_deGroup_run_time_20210910.csv',sep=''))\n"
   ]
  },
  {
   "cell_type": "markdown",
   "metadata": {},
   "source": [
    "## check different Baches"
   ]
  },
  {
   "cell_type": "code",
   "execution_count": 4,
   "metadata": {},
   "outputs": [
    {
     "name": "stderr",
     "output_type": "stream",
     "text": [
      "monocle\n",
      "\n",
      "monocle\n",
      "\n",
      "monocle\n",
      "\n",
      "monocle\n",
      "\n",
      "monocle\n",
      "\n",
      "monocle\n",
      "\n"
     ]
    }
   ],
   "source": [
    "n_batch_time = list();\n",
    "for (nbatch in c(1,2,4,6,8,10)){\n",
    "    options(warn=-1,showWarnCalls=F, showErrorCalls=F);\n",
    "    sce <- readRDS(file=paste('./write/SplatSim_G10_nC3k_sce_de_prob_nBatch_',\n",
    "                       as.character(nbatch),\n",
    "                       '_20210903.rds',\n",
    "                       sep=''));\n",
    "    t1 <- proc.time();\n",
    "    warning('off');\n",
    "    results_run_monocle <- run_monocle(sce);\n",
    "    t2 <- proc.time();\n",
    "    t = t2-t1;\n",
    "    n_batch_time[paste('nB',as.character(nct),sep='')] <- t[3][[1]];\n",
    "    write.csv(results_run_monocle$df,file = paste('./write/run_monocle_SplatSim_G10_nC3k_sce_de_prob_nBatch_',\n",
    "                           as.character(nbatch),\n",
    "                           '_20210910.csv',\n",
    "                           sep=''));\n",
    "}\n",
    "#write.csv(as.data.frame(n_batch_time),file=paste('./write/run_monocle_SplatSim_G2_sce_based_real_data_deBatch_run_time_20210910.csv',sep=''))"
   ]
  },
  {
   "cell_type": "code",
   "execution_count": null,
   "metadata": {},
   "outputs": [],
   "source": []
  }
 ],
 "metadata": {
  "kernelspec": {
   "display_name": "R 4.0.3",
   "language": "R",
   "name": "ir403"
  },
  "language_info": {
   "codemirror_mode": "r",
   "file_extension": ".r",
   "mimetype": "text/x-r-source",
   "name": "R",
   "pygments_lexer": "r",
   "version": "4.0.3"
  }
 },
 "nbformat": 4,
 "nbformat_minor": 2
}
